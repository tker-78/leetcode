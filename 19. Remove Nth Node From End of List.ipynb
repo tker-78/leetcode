{
 "cells": [
  {
   "metadata": {},
   "cell_type": "markdown",
   "source": [
    "# 19. Remove Nth Node From End of List\n",
    "\n",
    "[問題](https://leetcode.com/problems/remove-nth-node-from-end-of-list/description/)\n",
    "\n",
    "## 解答の方針\n",
    "LinkedListの後ろからn番目を削除なので、\n",
    "後ろからn+1番目の参照を一つ進める。\n"
   ],
   "id": "3ab5ca506c2f1eb9"
  },
  {
   "metadata": {
    "ExecuteTime": {
     "end_time": "2025-01-25T01:38:43.971215Z",
     "start_time": "2025-01-25T01:38:43.965234Z"
    }
   },
   "cell_type": "code",
   "source": [
    "import ipytest\n",
    "ipytest.autoconfig()"
   ],
   "id": "57c8d64a765b48eb",
   "outputs": [],
   "execution_count": 5
  },
  {
   "metadata": {
    "ExecuteTime": {
     "end_time": "2025-01-25T04:30:04.204213Z",
     "start_time": "2025-01-25T04:30:04.194892Z"
    }
   },
   "cell_type": "code",
   "source": [
    "from typing import Optional\n",
    "class ListNode():\n",
    "    def __init__(self, val=0, next=None):\n",
    "        self.val = val\n",
    "        self.next = next\n",
    "\n",
    "class Solution():\n",
    "    def removeNthFromEnd(self, head: Optional[ListNode], n: int):\n",
    "        # .nextでアクセスするためのdummyを用意する\n",
    "        dummy = ListNode(0)\n",
    "        dummy.next = head\n",
    "        # 要素の数を調べてlengthに格納する\n",
    "        length = 0\n",
    "        # head自体を変更しないためにfirstにコピーする\n",
    "        first = head\n",
    "        while first is not None:\n",
    "            length += 1\n",
    "            first = first.next\n",
    "\n",
    "        # lengthを削除する位置に指定する\n",
    "        length -= n\n",
    "\n",
    "        # returnでdummy.nextを返したいので、firstをdummyのダミーとする\n",
    "        first = dummy\n",
    "\n",
    "        for _ in range(length):\n",
    "            first = first.next\n",
    "\n",
    "        first.next = first.next.next\n",
    "        return dummy.next\n",
    "\n"
   ],
   "id": "866b2a1d9e9320ad",
   "outputs": [],
   "execution_count": 99
  },
  {
   "metadata": {
    "ExecuteTime": {
     "end_time": "2025-01-25T04:30:04.926814Z",
     "start_time": "2025-01-25T04:30:04.920316Z"
    }
   },
   "cell_type": "code",
   "source": "head = ListNode(1, ListNode(2, ListNode(3, ListNode(4, ListNode(5)))))",
   "id": "57565148de1cf0f0",
   "outputs": [],
   "execution_count": 100
  },
  {
   "metadata": {
    "ExecuteTime": {
     "end_time": "2025-01-25T04:30:05.643489Z",
     "start_time": "2025-01-25T04:30:05.636716Z"
    }
   },
   "cell_type": "code",
   "source": "head = Solution().removeNthFromEnd(head, 2)",
   "id": "fb017ce211bf2036",
   "outputs": [],
   "execution_count": 101
  },
  {
   "metadata": {
    "ExecuteTime": {
     "end_time": "2025-01-25T04:30:06.284202Z",
     "start_time": "2025-01-25T04:30:06.274954Z"
    }
   },
   "cell_type": "code",
   "source": [
    "print(head.val)\n",
    "while head.next is not None:\n",
    "    head = head.next\n",
    "    print(head.val)\n",
    "\n"
   ],
   "id": "2544fda0a0720546",
   "outputs": [
    {
     "name": "stdout",
     "output_type": "stream",
     "text": [
      "1\n",
      "2\n",
      "3\n",
      "5\n"
     ]
    }
   ],
   "execution_count": 102
  },
  {
   "metadata": {},
   "cell_type": "markdown",
   "source": [
    "## 考察\n",
    "最初にdummy = ListNode(0)としてダミーを作っているのは、\n",
    "dummy.next = headとして、headのコピーを扱いやすくするため。"
   ],
   "id": "b88ea0896a83f926"
  },
  {
   "metadata": {},
   "cell_type": "code",
   "outputs": [],
   "execution_count": null,
   "source": "",
   "id": "be6c96e3cd3ac404"
  }
 ],
 "metadata": {
  "kernelspec": {
   "name": "python3",
   "language": "python",
   "display_name": "Python 3 (ipykernel)"
  }
 },
 "nbformat": 5,
 "nbformat_minor": 9
}
