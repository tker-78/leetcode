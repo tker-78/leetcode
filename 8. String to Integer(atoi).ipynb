{
 "cells": [
  {
   "cell_type": "markdown",
   "metadata": {},
   "source": [
    "# 8. String to Integer(atoi)\n",
    "[問題](https://leetcode.com/problems/string-to-integer-atoi/)\n",
    "\n",
    "## 解答の方針\n",
    "- 空白文字を除去する\n",
    "- 符号を判別する\n",
    "- non-digitが途中で出てきたら以降は切り捨てる\n",
    "- 数値に変換する\n",
    "- 32bitのIntegerの範囲を超えていたら、数値を丸める"
   ]
  },
  {
   "cell_type": "code",
   "execution_count": 1,
   "metadata": {},
   "outputs": [],
   "source": [
    "import ipytest\n",
    "ipytest.autoconfig()"
   ]
  },
  {
   "cell_type": "code",
   "execution_count": 159,
   "metadata": {},
   "outputs": [],
   "source": [
    "import math, re\n",
    "class Solution():\n",
    "    def myAtoi(self, s: str) -> int:\n",
    "        # 空白文字を除去\n",
    "        s = s.strip()\n",
    "\n",
    "        # 空白文字だけの場合は0を返す\n",
    "        if s == \"\":\n",
    "            return 0\n",
    "\n",
    "        # 符号を記憶\n",
    "        signs = ('-', '+')\n",
    "        sign = None\n",
    "        if s[0] in signs:\n",
    "            sign = s[0]\n",
    "            s = s[1:]\n",
    "            \n",
    "        # non-digitが出てきたら以降は切り捨てる\n",
    "        for i in range(len(s)):\n",
    "            if not s[i].isdigit():\n",
    "                s = s[:i]\n",
    "                break\n",
    "        \n",
    "        # 先頭の0を削除\n",
    "        index = -1\n",
    "        if len(s) != 1:\n",
    "            for i in range(len(s)):\n",
    "                if s[i] == 0:\n",
    "                    index += 1\n",
    "            s = s[index+1:]\n",
    "\n",
    "\n",
    "        # 判定して値を返す\n",
    "        if s == \"\":\n",
    "            return 0\n",
    "        elif int(s) > math.pow(2, 31) - 1  and (sign is None or sign == '+'):\n",
    "            return int(math.pow(2, 31) - 1 )\n",
    "        elif int(s) >  math.pow(2, 31)  and sign == '-':\n",
    "            return -int(math.pow(2, 31))\n",
    "        elif sign == '-':\n",
    "            return -int(s)\n",
    "        else:\n",
    "            return int(s)\n",
    "        \n"
   ]
  },
  {
   "cell_type": "code",
   "execution_count": 160,
   "metadata": {},
   "outputs": [],
   "source": [
    "input = \"21474836460\"\n",
    "output = 2147483647 "
   ]
  },
  {
   "cell_type": "code",
   "execution_count": 161,
   "metadata": {},
   "outputs": [
    {
     "name": "stdout",
     "output_type": "stream",
     "text": [
      "\u001b[32m.\u001b[0m\u001b[32m                                                                                            [100%]\u001b[0m\n",
      "\u001b[32m\u001b[32m\u001b[1m1 passed\u001b[0m\u001b[32m in 0.08s\u001b[0m\u001b[0m\n"
     ]
    }
   ],
   "source": [
    "%%ipytest\n",
    "def test_myAtoi():\n",
    "    assert Solution().myAtoi(input) == output"
   ]
  },
  {
   "cell_type": "markdown",
   "metadata": {},
   "source": [
    "## 考察\n",
    "回答を見てもよくわからなかったが、\n",
    "正解したので良しとする。"
   ]
  }
 ],
 "metadata": {
  "kernelspec": {
   "display_name": ".venv",
   "language": "python",
   "name": "python3"
  },
  "language_info": {
   "codemirror_mode": {
    "name": "ipython",
    "version": 3
   },
   "file_extension": ".py",
   "mimetype": "text/x-python",
   "name": "python",
   "nbconvert_exporter": "python",
   "pygments_lexer": "ipython3",
   "version": "3.13.0"
  }
 },
 "nbformat": 4,
 "nbformat_minor": 2
}
