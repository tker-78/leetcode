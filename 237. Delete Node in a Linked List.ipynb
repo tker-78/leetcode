{
 "cells": [
  {
   "cell_type": "markdown",
   "metadata": {},
   "source": [
    "# 237. Delete Node in a Linked List\n",
    "[問題](https://leetcode.com/problems/delete-node-in-a-linked-list/description/)\n",
    "\n",
    "## 解答の方針\n",
    "head.nextを書き換えることでnodeを削除する"
   ]
  },
  {
   "cell_type": "code",
   "execution_count": 1,
   "metadata": {},
   "outputs": [],
   "source": [
    "import ipytest\n",
    "ipytest.autoconfig()"
   ]
  },
  {
   "cell_type": "code",
   "execution_count": 20,
   "metadata": {},
   "outputs": [],
   "source": [
    "class ListNode():\n",
    "    def __init__(self, x):\n",
    "        self.val = x\n",
    "        self.next = None\n",
    "\n",
    "class Solution():\n",
    "    def deleteNode(self, node):\n",
    "        def next(head, node):\n",
    "            if head.next.val == node.val:\n",
    "                head.next = head.next.next\n",
    "        return next\n",
    "\n"
   ]
  },
  {
   "cell_type": "code",
   "execution_count": 26,
   "metadata": {},
   "outputs": [],
   "source": [
    "head = ListNode(4)\n",
    "head.next = ListNode(5)\n",
    "head.next.next = ListNode(1)\n",
    "head.next.next.next = ListNode(9)\n",
    "node = ListNode(5)"
   ]
  },
  {
   "cell_type": "code",
   "execution_count": 22,
   "metadata": {},
   "outputs": [
    {
     "name": "stdout",
     "output_type": "stream",
     "text": [
      "\u001b[32m.\u001b[0m\u001b[32m                                                                                            [100%]\u001b[0m\n",
      "\u001b[32m\u001b[32m\u001b[1m1 passed\u001b[0m\u001b[32m in 0.12s\u001b[0m\u001b[0m\n"
     ]
    }
   ],
   "source": [
    "%%ipytest\n",
    "def test_deleteNode():\n",
    "    func = Solution().deleteNode(node)\n",
    "    func(head, node)\n",
    "    assert head.val == 4\n",
    "    assert head.next.val == 1\n",
    "    assert head.next.next.val == 9"
   ]
  },
  {
   "cell_type": "markdown",
   "metadata": {},
   "source": [
    "## 考察\n",
    "\n",
    "nodeの次の要素のvalをコピーして、次の要素をスキップすることで、nodeを削除できる。"
   ]
  },
  {
   "cell_type": "code",
   "execution_count": 38,
   "metadata": {},
   "outputs": [],
   "source": [
    "class Solution2():\n",
    "    def deleteNode(self, node):\n",
    "        node.val = node.next.val\n",
    "        node.next = node.next.next"
   ]
  },
  {
   "cell_type": "code",
   "execution_count": 39,
   "metadata": {},
   "outputs": [],
   "source": [
    "head = ListNode(4)\n",
    "head.next = ListNode(5)\n",
    "head.next.next = ListNode(1)\n",
    "head.next.next.next = ListNode(9)\n",
    "node = head.next"
   ]
  },
  {
   "cell_type": "code",
   "execution_count": 40,
   "metadata": {},
   "outputs": [
    {
     "name": "stdout",
     "output_type": "stream",
     "text": [
      "\u001b[32m.\u001b[0m\u001b[32m                                                                                            [100%]\u001b[0m\n",
      "\u001b[32m\u001b[32m\u001b[1m1 passed\u001b[0m\u001b[32m in 0.07s\u001b[0m\u001b[0m\n"
     ]
    }
   ],
   "source": [
    "%%ipytest\n",
    "def test_deleteNode():\n",
    "    func = Solution2().deleteNode(node)\n",
    "    assert head.val == 4\n",
    "    assert head.next.val == 1\n",
    "    assert head.next.next.val == 9"
   ]
  }
 ],
 "metadata": {
  "kernelspec": {
   "display_name": ".venv",
   "language": "python",
   "name": "python3"
  },
  "language_info": {
   "codemirror_mode": {
    "name": "ipython",
    "version": 3
   },
   "file_extension": ".py",
   "mimetype": "text/x-python",
   "name": "python",
   "nbconvert_exporter": "python",
   "pygments_lexer": "ipython3",
   "version": "3.13.0"
  }
 },
 "nbformat": 4,
 "nbformat_minor": 2
}
