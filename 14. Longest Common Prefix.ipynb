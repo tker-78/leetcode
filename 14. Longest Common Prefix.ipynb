{
 "cells": [
  {
   "cell_type": "markdown",
   "metadata": {},
   "source": [
    "# 14. Longest Common Prefix\n",
    "[問題](https://leetcode.com/problems/longest-common-prefix/description/)\n",
    "\n",
    "## 解答の方針\n",
    "最も短い文字数に合わせてstr.find()でマッチを判定する。\n"
   ]
  },
  {
   "cell_type": "code",
   "execution_count": 1,
   "metadata": {},
   "outputs": [],
   "source": [
    "import ipytest\n",
    "ipytest.autoconfig()"
   ]
  },
  {
   "cell_type": "code",
   "execution_count": 26,
   "metadata": {},
   "outputs": [],
   "source": [
    "from typing import List\n",
    "class Solution():\n",
    "    def longestCommonPrefix(self, strs: List[str]) -> str:\n",
    "        if len(strs) == 0:\n",
    "            return \"\"\n",
    "        prefix = strs[0]\n",
    "        for i in range(1, len(strs)):\n",
    "            # strsの各要素の先頭でprefixがマッチするまで\n",
    "            while strs[i].find(prefix) != 0:\n",
    "                # prefixを右側から1文字ずつ減らす\n",
    "                prefix = prefix[0:len(prefix)-1]\n",
    "                # prefixが空になったらcommonPrefixは存在しない\n",
    "                if prefix == \"\":\n",
    "                    return \"\"\n",
    "        return prefix\n"
   ]
  },
  {
   "cell_type": "code",
   "execution_count": 27,
   "metadata": {},
   "outputs": [],
   "source": [
    "strs = [\"aaaflo\",\"flow\",\"flight\"]\n",
    "output = \"\""
   ]
  },
  {
   "cell_type": "code",
   "execution_count": 28,
   "metadata": {},
   "outputs": [
    {
     "name": "stdout",
     "output_type": "stream",
     "text": [
      "\u001b[32m.\u001b[0m\u001b[32m                                                                                            [100%]\u001b[0m\n",
      "\u001b[32m\u001b[32m\u001b[1m1 passed\u001b[0m\u001b[32m in 0.10s\u001b[0m\u001b[0m\n"
     ]
    }
   ],
   "source": [
    "%%ipytest\n",
    "def test_longestCommonPrefix():\n",
    "    assert Solution().longestCommonPrefix(strs) == output"
   ]
  },
  {
   "cell_type": "markdown",
   "metadata": {},
   "source": [
    "## 考察\n",
    "str.find()を効果的に使うことでコード量を減らせる。(無駄に正規表現などを使わない)。  \n",
    "\n",
    "下記のコードは一番右の1文字を削除するので、定型文として覚える。\n",
    "```python\n",
    "prefix = prefix[0:len(prefix)-1]\n",
    "```"
   ]
  }
 ],
 "metadata": {
  "kernelspec": {
   "display_name": ".venv",
   "language": "python",
   "name": "python3"
  },
  "language_info": {
   "codemirror_mode": {
    "name": "ipython",
    "version": 3
   },
   "file_extension": ".py",
   "mimetype": "text/x-python",
   "name": "python",
   "nbconvert_exporter": "python",
   "pygments_lexer": "ipython3",
   "version": "3.13.0"
  }
 },
 "nbformat": 4,
 "nbformat_minor": 2
}
