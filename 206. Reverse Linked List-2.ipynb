{
 "cells": [
  {
   "cell_type": "markdown",
   "id": "22a347556dd0b6d9",
   "metadata": {},
   "source": [
    "# 206. Reverse Linked List(second)\n",
    "[問題](https://leetcode.com/problems/reverse-linked-list/description/)\n",
    "\n",
    "## 解答の方針\n",
    "head.next.next = head.nextでひとつづつずらす\n",
    "\n"
   ]
  },
  {
   "cell_type": "code",
   "execution_count": 2,
   "id": "3f69d51b02c17223",
   "metadata": {
    "ExecuteTime": {
     "end_time": "2025-01-25T04:36:21.223844Z",
     "start_time": "2025-01-25T04:36:21.218301Z"
    }
   },
   "outputs": [],
   "source": [
    "import ipytest\n",
    "ipytest.autoconfig()"
   ]
  },
  {
   "cell_type": "code",
   "execution_count": 31,
   "id": "d6dcc2393afbbade",
   "metadata": {
    "ExecuteTime": {
     "end_time": "2025-01-25T04:37:55.271850Z",
     "start_time": "2025-01-25T04:37:55.264178Z"
    }
   },
   "outputs": [],
   "source": [
    "from typing import Optional\n",
    "class ListNode():\n",
    "    def __init__(self, val=0, next=None):\n",
    "        self.val = val\n",
    "        self.next = next\n",
    "\n",
    "class Solution():\n",
    "    def reverseList(self, head: Optional[ListNode]) -> Optional[ListNode]:\n",
    "        current = head\n",
    "        prev = None\n",
    "        while current:\n",
    "            tmp = current.next\n",
    "            current.next = prev\n",
    "            prev = current\n",
    "            current = tmp\n",
    "        return prev\n",
    "\n",
    "\n"
   ]
  },
  {
   "cell_type": "code",
   "execution_count": 32,
   "id": "a30aa3e609b589f",
   "metadata": {
    "ExecuteTime": {
     "end_time": "2025-01-25T04:38:25.641103Z",
     "start_time": "2025-01-25T04:38:25.635305Z"
    }
   },
   "outputs": [],
   "source": [
    "head = ListNode(1, ListNode(2, ListNode(3, ListNode(4, ListNode(5)))))"
   ]
  },
  {
   "cell_type": "code",
   "execution_count": 33,
   "id": "73b723667ebc7193",
   "metadata": {},
   "outputs": [],
   "source": [
    "answer = Solution().reverseList(head)"
   ]
  },
  {
   "cell_type": "code",
   "execution_count": 34,
   "id": "168fb4df",
   "metadata": {},
   "outputs": [
    {
     "name": "stdout",
     "output_type": "stream",
     "text": [
      "5\n",
      "4\n",
      "3\n",
      "2\n",
      "1\n"
     ]
    }
   ],
   "source": [
    "while answer:\n",
    "    print(answer.val)\n",
    "    answer = answer.next\n"
   ]
  },
  {
   "cell_type": "markdown",
   "id": "22808fe2",
   "metadata": {},
   "source": [
    "## 考察\n",
    "headのコピーと、解答用のLinkedListと、tmpの3つの変数を使うので、\n",
    "頭がこんがらがる。\n",
    "\n",
    "要点は、headの次の要素を保存して、\n",
    "head.nextをprevにつなげていくこと。\n"
   ]
  }
 ],
 "metadata": {
  "kernelspec": {
   "display_name": ".venv",
   "language": "python",
   "name": "python3"
  },
  "language_info": {
   "codemirror_mode": {
    "name": "ipython",
    "version": 3
   },
   "file_extension": ".py",
   "mimetype": "text/x-python",
   "name": "python",
   "nbconvert_exporter": "python",
   "pygments_lexer": "ipython3",
   "version": "3.13.0"
  }
 },
 "nbformat": 5,
 "nbformat_minor": 9
}
